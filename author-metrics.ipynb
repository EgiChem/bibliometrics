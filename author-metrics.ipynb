{
 "cells": [
  {
   "cell_type": "markdown",
   "source": [
    "# Collect author metrics for a list of authors"
   ],
   "metadata": {
    "collapsed": false
   },
   "id": "71694df60e58549a"
  },
  {
   "cell_type": "code",
   "execution_count": 1,
   "outputs": [],
   "source": [
    "import pandas as pd\n",
    "from scopus.author_metrics import author_metrics"
   ],
   "metadata": {
    "collapsed": false,
    "ExecuteTime": {
     "end_time": "2024-11-22T14:47:35.390249Z",
     "start_time": "2024-11-22T14:47:35.038060700Z"
    }
   },
   "id": "cf35a8cb601c5929"
  },
  {
   "cell_type": "code",
   "execution_count": 3,
   "outputs": [
    {
     "name": "stdout",
     "output_type": "stream",
     "text": [
      "Created .csv file: C:\\Users\\josep\\OneDrive\\Projects\\bibliometrics\\outputs\\author-data-list.csv\n"
     ]
    },
    {
     "data": {
      "text/plain": "     scopus_id            name            full_name                orcid  \\\n0  54987869500  J.P.S. Aniceto   José P. S. Aniceto  0000-0001-5206-0142   \n1  57195637544      C.M. Silva  Carlos Manuel Silva  0000-0002-9310-2457   \n\n   document_count  cited_by_count  citations_count  coauthor_count  h_index  \n0              19             290              347              19        9  \n1             201            4332             6368             238       44  ",
      "text/html": "<div>\n<style scoped>\n    .dataframe tbody tr th:only-of-type {\n        vertical-align: middle;\n    }\n\n    .dataframe tbody tr th {\n        vertical-align: top;\n    }\n\n    .dataframe thead th {\n        text-align: right;\n    }\n</style>\n<table border=\"1\" class=\"dataframe\">\n  <thead>\n    <tr style=\"text-align: right;\">\n      <th></th>\n      <th>scopus_id</th>\n      <th>name</th>\n      <th>full_name</th>\n      <th>orcid</th>\n      <th>document_count</th>\n      <th>cited_by_count</th>\n      <th>citations_count</th>\n      <th>coauthor_count</th>\n      <th>h_index</th>\n    </tr>\n  </thead>\n  <tbody>\n    <tr>\n      <th>0</th>\n      <td>54987869500</td>\n      <td>J.P.S. Aniceto</td>\n      <td>José P. S. Aniceto</td>\n      <td>0000-0001-5206-0142</td>\n      <td>19</td>\n      <td>290</td>\n      <td>347</td>\n      <td>19</td>\n      <td>9</td>\n    </tr>\n    <tr>\n      <th>1</th>\n      <td>57195637544</td>\n      <td>C.M. Silva</td>\n      <td>Carlos Manuel Silva</td>\n      <td>0000-0002-9310-2457</td>\n      <td>201</td>\n      <td>4332</td>\n      <td>6368</td>\n      <td>238</td>\n      <td>44</td>\n    </tr>\n  </tbody>\n</table>\n</div>"
     },
     "execution_count": 3,
     "metadata": {},
     "output_type": "execute_result"
    }
   ],
   "source": [
    "# Get metrics for list of authors in CSV file\n",
    "author_list_file = 'data/author-ids-list.csv'\n",
    "\n",
    "df = author_metrics(author_file='data/author-ids-list.csv')\n",
    "df"
   ],
   "metadata": {
    "collapsed": false,
    "ExecuteTime": {
     "end_time": "2024-11-22T14:47:47.903202900Z",
     "start_time": "2024-11-22T14:47:47.878854600Z"
    }
   },
   "id": "5382f968f7a70de2"
  },
  {
   "cell_type": "code",
   "execution_count": null,
   "outputs": [],
   "source": [],
   "metadata": {
    "collapsed": false
   },
   "id": "b210d0f78f1ac236"
  }
 ],
 "metadata": {
  "kernelspec": {
   "display_name": "Python 3",
   "language": "python",
   "name": "python3"
  },
  "language_info": {
   "codemirror_mode": {
    "name": "ipython",
    "version": 2
   },
   "file_extension": ".py",
   "mimetype": "text/x-python",
   "name": "python",
   "nbconvert_exporter": "python",
   "pygments_lexer": "ipython2",
   "version": "2.7.6"
  }
 },
 "nbformat": 4,
 "nbformat_minor": 5
}
