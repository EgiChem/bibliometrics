{
 "cells": [
  {
   "cell_type": "markdown",
   "source": [
    "# Getting document info from an author in Scopus"
   ],
   "metadata": {
    "collapsed": false
   },
   "id": "4b49eb4b5b6c3eda"
  },
  {
   "cell_type": "code",
   "execution_count": 4,
   "outputs": [],
   "source": [
    "from scopus.author_documents import get_author_docs, create_pub_list_tex"
   ],
   "metadata": {
    "collapsed": false,
    "ExecuteTime": {
     "end_time": "2024-11-22T13:41:28.991351900Z",
     "start_time": "2024-11-22T13:41:28.977837200Z"
    }
   },
   "id": "da2575faf707f340"
  },
  {
   "cell_type": "code",
   "execution_count": 5,
   "outputs": [],
   "source": [
    "# Author Scopus ID\n",
    "author_id = '54987869500'  # José Aniceto"
   ],
   "metadata": {
    "collapsed": false,
    "ExecuteTime": {
     "end_time": "2024-11-22T13:41:29.378495100Z",
     "start_time": "2024-11-22T13:41:29.372674900Z"
    }
   },
   "id": "9b5c60ec664581ea"
  },
  {
   "cell_type": "code",
   "execution_count": 6,
   "outputs": [
    {
     "name": "stdout",
     "output_type": "stream",
     "text": [
      "J.P.S. Aniceto\n",
      "Created .csv file: C:\\Users\\josep\\OneDrive\\Projects\\bibliometrics\\outputs\\author54987869500-docs.csv\n",
      "Number of documents: 19\n"
     ]
    }
   ],
   "source": [
    "# Create a CSV of articles\n",
    "docs = get_author_docs(author_id)\n",
    "print('Number of documents:', len(docs))"
   ],
   "metadata": {
    "collapsed": false,
    "ExecuteTime": {
     "end_time": "2024-11-22T13:41:30.067800200Z",
     "start_time": "2024-11-22T13:41:30.055077500Z"
    }
   },
   "id": "35c488f61c618a6e"
  },
  {
   "cell_type": "code",
   "execution_count": 7,
   "outputs": [
    {
     "name": "stdout",
     "output_type": "stream",
     "text": [
      "\\documentclass{article}\n",
      "\n",
      "\\begin{document}\n",
      "\n",
      "\\title{Publication list}\n",
      "\\date{}\n",
      "\\maketitle\n",
      "\n",
      "\\section*{All publications}\n",
      "\n",
      "\\begin{enumerate}\n",
      "    \n",
      "        \\item Dias, Andreia F.F.;Portugal, Inês;Aniceto, José P.S.;Silva, Carlos M., Machine Learning model for the prediction of self-diffusion coefficients in liquids, compressed gases and supercritical fluids, \\it{ Chemical Engineering Journal }, 495, 2024. DOI: 10.1016/j.cej.2024.153274. Citations: 1. \n",
      "    \n",
      "        \\item Aniceto, José P.S.;Zêzere, Bruno;Silva, Carlos M., Prediction of diffusion coefficients in aqueous systems by machine learning models, \\it{ Journal of Molecular Liquids }, 405, 2024. DOI: 10.1016/j.molliq.2024.125009. Citations: 2. \n",
      "    \n",
      "        \\item Azenha, Ivo S.;Aniceto, José P.S.;Ribeiro, Diogo P.;Mendes, Adélio;Silva, Carlos M., Reversed-phase chromatographic separation and downstream precipitation of lupane- and oleanane-type triterpenoids: Experiments and modeling based on the method of moments, \\it{ Separation and Purification Technology }, 260, 2021. DOI: 10.1016/j.seppur.2020.118208. Citations: 1. \n",
      "    \n",
      "        \\item Aniceto, José P.S.;Zêzere, Bruno;Silva, Carlos M., Machine learning models for the prediction of diffusivities in supercritical CO<inf>2</inf> systems, \\it{ Journal of Molecular Liquids }, 326, 2021. DOI: 10.1016/j.molliq.2021.115281. Citations: 23. \n",
      "    \n",
      "        \\item Aniceto, José P.S.;Zêzere, Bruno;Silva, Carlos M., Predictive models for the binary diffusion coefficient at infinite dilution in polar and nonpolar fluids, \\it{ Materials }, 14, 3, 1-33, 2021. DOI: 10.3390/ma14030542. Citations: 15. \n",
      "    \n",
      "        \\item Azenha, Ivo S.;Aniceto, José P.S.;Santos, Cristiana A.;Mendes, Adélio;Silva, Carlos M., Enhanced separation of bioactive triterpenic acids with a triacontylsilyl silica gel adsorbent: From impulse and breakthrough experiments to the design of a simulated moving bed unit, \\it{ Separation and Purification Technology }, 248, 2020. DOI: 10.1016/j.seppur.2020.116991. Citations: 7. \n",
      "    \n",
      "        \\item Azenha, I. S.;Aniceto, J. P.S.;Sequeira, S. P.;Mendes, A.;Silva, C. M., Chromatographic separation of betulinic and oleanolic acids, \\it{ Separation and Purification Technology }, 235, 2020. DOI: 10.1016/j.seppur.2019.116129. Citations: 7. \n",
      "    \n",
      "        \\item Aniceto, J. P.S.;Azenha, I. S.;Domingues, F. M.J.;Mendes, A.;Silva, C. M., Design and optimization of a simulated moving bed unit for the separation of betulinic, oleanolic and ursolic acids mixtures: Experimental and modeling studies, \\it{ Separation and Purification Technology }, 192, 401-411, 2018. DOI: 10.1016/j.seppur.2017.10.016. Citations: 23. \n",
      "    \n",
      "        \\item Aniceto, José P.S.;Cardoso, Simão P.;Silva, Carlos M., General optimization strategy of simulated moving bed units through design of experiments and response surface methodologies, \\it{ Computers and Chemical Engineering }, 90, 161-170, 2016. DOI: 10.1016/j.compchemeng.2016.04.028. Citations: 29. \n",
      "    \n",
      "        \\item Lito, P. F.;Aniceto, J. P.S.;Silva, C. M., Maxwell–Stefan based modelling of ion exchange systems containing common species (Cd<sup>2+</sup>, Na<sup>+</sup>) and distinct sorbents (ETS-4, ETS-10), \\it{ International Journal of Environmental Science and Technology }, 12, 1, 183-192, 2015. DOI: 10.1007/s13762-013-0438-2. Citations: 9. \n",
      "    \n",
      "        \\item Aniceto, José P.S.;Silva, Carlos M., Simulated moving bed strategies and designs: From established systems to the latest developments, \\it{ Separation and Purification Reviews }, 44, 1, 41-73, 2015. DOI: 10.1080/15422119.2013.851087. Citations: 40. \n",
      "    \n",
      "        \\item Lito, Patrícia Ferreira;Aniceto, José Pedro Salgado;Silva, Carlos Manuel, Modelling ion exchange kinetics in zeolyte-type materials using Maxwell-Stefan approach, \\it{ Desalination and Water Treatment }, 52, 28-30, 5333-5342, 2014. DOI: 10.1080/19443994.2013.815682. Citations: 7. \n",
      "    \n",
      "        \\item Aniceto, José P.S.;Fernandes, Daniel L.A.;Silva, Carlos M., Modeling ion exchange equilibrium of ternary systems using neural networks, \\it{ Desalination }, 309, 267-274, 2013. DOI: 10.1016/j.desal.2012.10.024. Citations: 8. \n",
      "    \n",
      "        \\item Aniceto, José P.S.;Lito, Patrícia F.;Silva, Carlos M., Modeling sorbent phase nonideality for the accurate prediction of multicomponent ion exchange equilibrium with the homogeneous mass action law, \\it{ Journal of Chemical and Engineering Data }, 57, 6, 1766-1778, 2012. DOI: 10.1021/je300156h. Citations: 6. \n",
      "    \n",
      "        \\item Aniceto, José P.S.;Cardoso, Simão P.;Faria, Tiago L.;Lito, Patrícia F.;Silva, Carlos M., Modeling ion exchange equilibrium: Analysis of exchanger phase non-ideality, \\it{ Desalination }, 290, 43-53, 2012. DOI: 10.1016/j.desal.2012.01.001. Citations: 17. \n",
      "    \n",
      "\\end{enumerate}\n",
      "\n",
      "\n",
      "\\end{document}\n",
      "Created .tex file: C:\\Users\\josep\\OneDrive\\Projects\\bibliometrics\\outputs\\pub-list.tex\n"
     ]
    }
   ],
   "source": [
    "# Create a formatted list of documents using a template\n",
    "create_pub_list_tex(docs, template='publication-list.tex', include_doi=True, include_citations=True)"
   ],
   "metadata": {
    "collapsed": false,
    "ExecuteTime": {
     "end_time": "2024-11-22T13:41:38.229516400Z",
     "start_time": "2024-11-22T13:41:38.208236100Z"
    }
   },
   "id": "7ec469d0ff60f546"
  },
  {
   "cell_type": "code",
   "execution_count": 8,
   "outputs": [
    {
     "data": {
      "text/plain": "                                         author_names  \\\n0   Dias, Andreia F.F.;Portugal, Inês;Aniceto, Jos...   \n1   Aniceto, José P.S.;Zêzere, Bruno;Silva, Carlos M.   \n2   Evtuguin, Dmitry;Aniceto, José P.S.;Marques, R...   \n3   Aniceto, José P.S.;Rodrigues, Vítor H.;Portuga...   \n4   Azenha, Ivo S.;Aniceto, José P.S.;Ribeiro, Dio...   \n5   Aniceto, José P.S.;Zêzere, Bruno;Silva, Carlos M.   \n6   Aniceto, José P.S.;Zêzere, Bruno;Silva, Carlos M.   \n7   Azenha, Ivo S.;Aniceto, José P.S.;Santos, Cris...   \n8   Azenha, I. S.;Aniceto, J. P.S.;Sequeira, S. P....   \n9   Aniceto, J. P.S.;Azenha, I. S.;Domingues, F. M...   \n10  Aniceto, José P.S.;Cardoso, Simão P.;Silva, Ca...   \n11          Lito, P. F.;Aniceto, J. P.S.;Silva, C. M.   \n12                Aniceto, José P.S.;Silva, Carlos M.   \n13  Lito, Patrícia Ferreira;Aniceto, José Pedro Sa...   \n14  Aniceto, José P.S.;Fernandes, Daniel L.A.;Silv...   \n15  Lito, Patrícia F.;Aniceto, José P.S.;Silva, Ca...   \n16  Aniceto, José P.S.;Lito, Patrícia F.;Silva, Ca...   \n17  Aniceto, José P.S.;Cardoso, Simão P.;Faria, Ti...   \n18  Aniceto, José P.S.;Portugal, Inês;Silva, Carlo...   \n\n                                                title  \\\n0   Machine Learning model for the prediction of s...   \n1   Prediction of diffusion coefficients in aqueou...   \n2   Obtaining Value from Wine Wastes: Paving the W...   \n3   Valorization of tomato residues by supercritic...   \n4   Reversed-phase chromatographic separation and ...   \n5   Machine learning models for the prediction of ...   \n6   Predictive models for the binary diffusion coe...   \n7   Enhanced separation of bioactive triterpenic a...   \n8   Chromatographic separation of betulinic and ol...   \n9   Design and optimization of a simulated moving ...   \n10  General optimization strategy of simulated mov...   \n11  Maxwell–Stefan based modelling of ion exchange...   \n12  Simulated moving bed strategies and designs: F...   \n13  Modelling ion exchange kinetics in zeolyte-typ...   \n14  Modeling ion exchange equilibrium of ternary s...   \n15  Removal of anionic pollutants from waters and ...   \n16  Modeling sorbent phase nonideality for the acc...   \n17  Modeling ion exchange equilibrium: Analysis of...   \n18  Biomass-based polyols through oxypropylation r...   \n\n                                      publicationName volume issueIdentifier  \\\n0                        Chemical Engineering Journal    495            None   \n1                        Journal of Molecular Liquids    405            None   \n2                                        Fermentation     10               1   \n3                                           Processes     10               1   \n4              Separation and Purification Technology    260            None   \n5                        Journal of Molecular Liquids    326            None   \n6                                           Materials     14               3   \n7              Separation and Purification Technology    248            None   \n8              Separation and Purification Technology    235            None   \n9              Separation and Purification Technology    192            None   \n10                 Computers and Chemical Engineering     90            None   \n11  International Journal of Environmental Science...     12               1   \n12                Separation and Purification Reviews     44               1   \n13                   Desalination and Water Treatment     52           28-30   \n14                                       Desalination    309            None   \n15                     Water, Air, and Soil Pollution    223               9   \n16           Journal of Chemical and Engineering Data     57               6   \n17                                       Desalination    290            None   \n18                                        ChemSusChem      5               8   \n\n    pageRange  year   coverDate                                doi  \\\n0        None  2024  2024-09-01          10.1016/j.cej.2024.153274   \n1        None  2024  2024-07-01       10.1016/j.molliq.2024.125009   \n2        None  2024  2024-01-01       10.3390/fermentation10010024   \n3        None  2022  2022-01-01                 10.3390/pr10010028   \n4        None  2021  2021-04-01       10.1016/j.seppur.2020.118208   \n5        None  2021  2021-03-15       10.1016/j.molliq.2021.115281   \n6        1-33  2021  2021-02-01                 10.3390/ma14030542   \n7        None  2020  2020-10-01       10.1016/j.seppur.2020.116991   \n8        None  2020  2020-03-18       10.1016/j.seppur.2019.116129   \n9     401-411  2018  2018-02-09       10.1016/j.seppur.2017.10.016   \n10    161-170  2016  2016-07-12  10.1016/j.compchemeng.2016.04.028   \n11    183-192  2015  2015-01-01          10.1007/s13762-013-0438-2   \n12      41-73  2015  2015-01-01       10.1080/15422119.2013.851087   \n13  5333-5342  2014  2014-01-01       10.1080/19443994.2013.815682   \n14    267-274  2013  2013-01-15        10.1016/j.desal.2012.10.024   \n15  6133-6155  2012  2012-11-01          10.1007/s11270-012-1346-7   \n16  1766-1778  2012  2012-06-14                  10.1021/je300156h   \n17      43-53  2012  2012-03-30        10.1016/j.desal.2012.01.001   \n18  1358-1368  2012  2012-01-01             10.1002/cssc.201200032   \n\n                                           author_ids author_count  \\\n0     59184773400;57226220287;54987869500;57195637544            4   \n1                 54987869500;57196375201;57195637544            3   \n2   7004261144;54987869500;58844432200;57226220287...            7   \n3     54987869500;57195678264;57226220287;57195637544            4   \n4   57186587600;54987869500;57221108223;7102443929...            5   \n5                 54987869500;57196375201;57195637544            3   \n6                 54987869500;57196375201;57195637544            3   \n7   57186587600;54987869500;57216746301;7102443929...            5   \n8   57186587600;54987869500;23028953300;7102443929...            5   \n9   54987869500;57186587600;7004167410;7102443929;...            5   \n10                54987869500;36455487500;57195637544            3   \n11                22934732000;54987869500;57195637544            3   \n12                            54987869500;57195637544            2   \n13                22934732000;54987869500;57195637544            3   \n14                 54987869500;8442778200;57195637544            3   \n15                22934732000;54987869500;57195637544            3   \n16                54987869500;22934732000;57195637544            3   \n17  54987869500;36455487500;54988912000;2293473200...            5   \n18                54987869500;57226220287;57195637544            3   \n\n    citedby_count     type  \n0               1  Article  \n1               2  Article  \n2               1   Review  \n3              18   Review  \n4               1  Article  \n5              23  Article  \n6              15  Article  \n7               7  Article  \n8               7  Article  \n9              23  Article  \n10             29  Article  \n11              9  Article  \n12             40  Article  \n13              7  Article  \n14              8  Article  \n15             63   Review  \n16              6  Article  \n17             17  Article  \n18             70   Review  ",
      "text/html": "<div>\n<style scoped>\n    .dataframe tbody tr th:only-of-type {\n        vertical-align: middle;\n    }\n\n    .dataframe tbody tr th {\n        vertical-align: top;\n    }\n\n    .dataframe thead th {\n        text-align: right;\n    }\n</style>\n<table border=\"1\" class=\"dataframe\">\n  <thead>\n    <tr style=\"text-align: right;\">\n      <th></th>\n      <th>author_names</th>\n      <th>title</th>\n      <th>publicationName</th>\n      <th>volume</th>\n      <th>issueIdentifier</th>\n      <th>pageRange</th>\n      <th>year</th>\n      <th>coverDate</th>\n      <th>doi</th>\n      <th>author_ids</th>\n      <th>author_count</th>\n      <th>citedby_count</th>\n      <th>type</th>\n    </tr>\n  </thead>\n  <tbody>\n    <tr>\n      <th>0</th>\n      <td>Dias, Andreia F.F.;Portugal, Inês;Aniceto, Jos...</td>\n      <td>Machine Learning model for the prediction of s...</td>\n      <td>Chemical Engineering Journal</td>\n      <td>495</td>\n      <td>None</td>\n      <td>None</td>\n      <td>2024</td>\n      <td>2024-09-01</td>\n      <td>10.1016/j.cej.2024.153274</td>\n      <td>59184773400;57226220287;54987869500;57195637544</td>\n      <td>4</td>\n      <td>1</td>\n      <td>Article</td>\n    </tr>\n    <tr>\n      <th>1</th>\n      <td>Aniceto, José P.S.;Zêzere, Bruno;Silva, Carlos M.</td>\n      <td>Prediction of diffusion coefficients in aqueou...</td>\n      <td>Journal of Molecular Liquids</td>\n      <td>405</td>\n      <td>None</td>\n      <td>None</td>\n      <td>2024</td>\n      <td>2024-07-01</td>\n      <td>10.1016/j.molliq.2024.125009</td>\n      <td>54987869500;57196375201;57195637544</td>\n      <td>3</td>\n      <td>2</td>\n      <td>Article</td>\n    </tr>\n    <tr>\n      <th>2</th>\n      <td>Evtuguin, Dmitry;Aniceto, José P.S.;Marques, R...</td>\n      <td>Obtaining Value from Wine Wastes: Paving the W...</td>\n      <td>Fermentation</td>\n      <td>10</td>\n      <td>1</td>\n      <td>None</td>\n      <td>2024</td>\n      <td>2024-01-01</td>\n      <td>10.3390/fermentation10010024</td>\n      <td>7004261144;54987869500;58844432200;57226220287...</td>\n      <td>7</td>\n      <td>1</td>\n      <td>Review</td>\n    </tr>\n    <tr>\n      <th>3</th>\n      <td>Aniceto, José P.S.;Rodrigues, Vítor H.;Portuga...</td>\n      <td>Valorization of tomato residues by supercritic...</td>\n      <td>Processes</td>\n      <td>10</td>\n      <td>1</td>\n      <td>None</td>\n      <td>2022</td>\n      <td>2022-01-01</td>\n      <td>10.3390/pr10010028</td>\n      <td>54987869500;57195678264;57226220287;57195637544</td>\n      <td>4</td>\n      <td>18</td>\n      <td>Review</td>\n    </tr>\n    <tr>\n      <th>4</th>\n      <td>Azenha, Ivo S.;Aniceto, José P.S.;Ribeiro, Dio...</td>\n      <td>Reversed-phase chromatographic separation and ...</td>\n      <td>Separation and Purification Technology</td>\n      <td>260</td>\n      <td>None</td>\n      <td>None</td>\n      <td>2021</td>\n      <td>2021-04-01</td>\n      <td>10.1016/j.seppur.2020.118208</td>\n      <td>57186587600;54987869500;57221108223;7102443929...</td>\n      <td>5</td>\n      <td>1</td>\n      <td>Article</td>\n    </tr>\n    <tr>\n      <th>5</th>\n      <td>Aniceto, José P.S.;Zêzere, Bruno;Silva, Carlos M.</td>\n      <td>Machine learning models for the prediction of ...</td>\n      <td>Journal of Molecular Liquids</td>\n      <td>326</td>\n      <td>None</td>\n      <td>None</td>\n      <td>2021</td>\n      <td>2021-03-15</td>\n      <td>10.1016/j.molliq.2021.115281</td>\n      <td>54987869500;57196375201;57195637544</td>\n      <td>3</td>\n      <td>23</td>\n      <td>Article</td>\n    </tr>\n    <tr>\n      <th>6</th>\n      <td>Aniceto, José P.S.;Zêzere, Bruno;Silva, Carlos M.</td>\n      <td>Predictive models for the binary diffusion coe...</td>\n      <td>Materials</td>\n      <td>14</td>\n      <td>3</td>\n      <td>1-33</td>\n      <td>2021</td>\n      <td>2021-02-01</td>\n      <td>10.3390/ma14030542</td>\n      <td>54987869500;57196375201;57195637544</td>\n      <td>3</td>\n      <td>15</td>\n      <td>Article</td>\n    </tr>\n    <tr>\n      <th>7</th>\n      <td>Azenha, Ivo S.;Aniceto, José P.S.;Santos, Cris...</td>\n      <td>Enhanced separation of bioactive triterpenic a...</td>\n      <td>Separation and Purification Technology</td>\n      <td>248</td>\n      <td>None</td>\n      <td>None</td>\n      <td>2020</td>\n      <td>2020-10-01</td>\n      <td>10.1016/j.seppur.2020.116991</td>\n      <td>57186587600;54987869500;57216746301;7102443929...</td>\n      <td>5</td>\n      <td>7</td>\n      <td>Article</td>\n    </tr>\n    <tr>\n      <th>8</th>\n      <td>Azenha, I. S.;Aniceto, J. P.S.;Sequeira, S. P....</td>\n      <td>Chromatographic separation of betulinic and ol...</td>\n      <td>Separation and Purification Technology</td>\n      <td>235</td>\n      <td>None</td>\n      <td>None</td>\n      <td>2020</td>\n      <td>2020-03-18</td>\n      <td>10.1016/j.seppur.2019.116129</td>\n      <td>57186587600;54987869500;23028953300;7102443929...</td>\n      <td>5</td>\n      <td>7</td>\n      <td>Article</td>\n    </tr>\n    <tr>\n      <th>9</th>\n      <td>Aniceto, J. P.S.;Azenha, I. S.;Domingues, F. M...</td>\n      <td>Design and optimization of a simulated moving ...</td>\n      <td>Separation and Purification Technology</td>\n      <td>192</td>\n      <td>None</td>\n      <td>401-411</td>\n      <td>2018</td>\n      <td>2018-02-09</td>\n      <td>10.1016/j.seppur.2017.10.016</td>\n      <td>54987869500;57186587600;7004167410;7102443929;...</td>\n      <td>5</td>\n      <td>23</td>\n      <td>Article</td>\n    </tr>\n    <tr>\n      <th>10</th>\n      <td>Aniceto, José P.S.;Cardoso, Simão P.;Silva, Ca...</td>\n      <td>General optimization strategy of simulated mov...</td>\n      <td>Computers and Chemical Engineering</td>\n      <td>90</td>\n      <td>None</td>\n      <td>161-170</td>\n      <td>2016</td>\n      <td>2016-07-12</td>\n      <td>10.1016/j.compchemeng.2016.04.028</td>\n      <td>54987869500;36455487500;57195637544</td>\n      <td>3</td>\n      <td>29</td>\n      <td>Article</td>\n    </tr>\n    <tr>\n      <th>11</th>\n      <td>Lito, P. F.;Aniceto, J. P.S.;Silva, C. M.</td>\n      <td>Maxwell–Stefan based modelling of ion exchange...</td>\n      <td>International Journal of Environmental Science...</td>\n      <td>12</td>\n      <td>1</td>\n      <td>183-192</td>\n      <td>2015</td>\n      <td>2015-01-01</td>\n      <td>10.1007/s13762-013-0438-2</td>\n      <td>22934732000;54987869500;57195637544</td>\n      <td>3</td>\n      <td>9</td>\n      <td>Article</td>\n    </tr>\n    <tr>\n      <th>12</th>\n      <td>Aniceto, José P.S.;Silva, Carlos M.</td>\n      <td>Simulated moving bed strategies and designs: F...</td>\n      <td>Separation and Purification Reviews</td>\n      <td>44</td>\n      <td>1</td>\n      <td>41-73</td>\n      <td>2015</td>\n      <td>2015-01-01</td>\n      <td>10.1080/15422119.2013.851087</td>\n      <td>54987869500;57195637544</td>\n      <td>2</td>\n      <td>40</td>\n      <td>Article</td>\n    </tr>\n    <tr>\n      <th>13</th>\n      <td>Lito, Patrícia Ferreira;Aniceto, José Pedro Sa...</td>\n      <td>Modelling ion exchange kinetics in zeolyte-typ...</td>\n      <td>Desalination and Water Treatment</td>\n      <td>52</td>\n      <td>28-30</td>\n      <td>5333-5342</td>\n      <td>2014</td>\n      <td>2014-01-01</td>\n      <td>10.1080/19443994.2013.815682</td>\n      <td>22934732000;54987869500;57195637544</td>\n      <td>3</td>\n      <td>7</td>\n      <td>Article</td>\n    </tr>\n    <tr>\n      <th>14</th>\n      <td>Aniceto, José P.S.;Fernandes, Daniel L.A.;Silv...</td>\n      <td>Modeling ion exchange equilibrium of ternary s...</td>\n      <td>Desalination</td>\n      <td>309</td>\n      <td>None</td>\n      <td>267-274</td>\n      <td>2013</td>\n      <td>2013-01-15</td>\n      <td>10.1016/j.desal.2012.10.024</td>\n      <td>54987869500;8442778200;57195637544</td>\n      <td>3</td>\n      <td>8</td>\n      <td>Article</td>\n    </tr>\n    <tr>\n      <th>15</th>\n      <td>Lito, Patrícia F.;Aniceto, José P.S.;Silva, Ca...</td>\n      <td>Removal of anionic pollutants from waters and ...</td>\n      <td>Water, Air, and Soil Pollution</td>\n      <td>223</td>\n      <td>9</td>\n      <td>6133-6155</td>\n      <td>2012</td>\n      <td>2012-11-01</td>\n      <td>10.1007/s11270-012-1346-7</td>\n      <td>22934732000;54987869500;57195637544</td>\n      <td>3</td>\n      <td>63</td>\n      <td>Review</td>\n    </tr>\n    <tr>\n      <th>16</th>\n      <td>Aniceto, José P.S.;Lito, Patrícia F.;Silva, Ca...</td>\n      <td>Modeling sorbent phase nonideality for the acc...</td>\n      <td>Journal of Chemical and Engineering Data</td>\n      <td>57</td>\n      <td>6</td>\n      <td>1766-1778</td>\n      <td>2012</td>\n      <td>2012-06-14</td>\n      <td>10.1021/je300156h</td>\n      <td>54987869500;22934732000;57195637544</td>\n      <td>3</td>\n      <td>6</td>\n      <td>Article</td>\n    </tr>\n    <tr>\n      <th>17</th>\n      <td>Aniceto, José P.S.;Cardoso, Simão P.;Faria, Ti...</td>\n      <td>Modeling ion exchange equilibrium: Analysis of...</td>\n      <td>Desalination</td>\n      <td>290</td>\n      <td>None</td>\n      <td>43-53</td>\n      <td>2012</td>\n      <td>2012-03-30</td>\n      <td>10.1016/j.desal.2012.01.001</td>\n      <td>54987869500;36455487500;54988912000;2293473200...</td>\n      <td>5</td>\n      <td>17</td>\n      <td>Article</td>\n    </tr>\n    <tr>\n      <th>18</th>\n      <td>Aniceto, José P.S.;Portugal, Inês;Silva, Carlo...</td>\n      <td>Biomass-based polyols through oxypropylation r...</td>\n      <td>ChemSusChem</td>\n      <td>5</td>\n      <td>8</td>\n      <td>1358-1368</td>\n      <td>2012</td>\n      <td>2012-01-01</td>\n      <td>10.1002/cssc.201200032</td>\n      <td>54987869500;57226220287;57195637544</td>\n      <td>3</td>\n      <td>70</td>\n      <td>Review</td>\n    </tr>\n  </tbody>\n</table>\n</div>"
     },
     "execution_count": 8,
     "metadata": {},
     "output_type": "execute_result"
    }
   ],
   "source": [
    "# Create a table of documents\n",
    "import pandas as pd\n",
    "\n",
    "df = pd.DataFrame(docs)\n",
    "df"
   ],
   "metadata": {
    "collapsed": false,
    "ExecuteTime": {
     "end_time": "2024-11-22T13:42:18.283776900Z",
     "start_time": "2024-11-22T13:42:18.249079600Z"
    }
   },
   "id": "91cfddaa28f33c08"
  },
  {
   "cell_type": "code",
   "execution_count": 9,
   "outputs": [
    {
     "data": {
      "text/plain": "['Article', 'Review']"
     },
     "execution_count": 9,
     "metadata": {},
     "output_type": "execute_result"
    }
   ],
   "source": [
    "# Types of documents\n",
    "list(df['type'].unique())"
   ],
   "metadata": {
    "collapsed": false,
    "ExecuteTime": {
     "end_time": "2024-11-22T13:43:22.630996300Z",
     "start_time": "2024-11-22T13:43:22.627148200Z"
    }
   },
   "id": "9d1e532a9b0d8706"
  },
  {
   "cell_type": "code",
   "execution_count": 12,
   "outputs": [
    {
     "data": {
      "text/plain": "['Chemical Engineering Journal',\n 'Journal of Molecular Liquids',\n 'Separation and Purification Technology',\n 'Materials',\n 'Computers and Chemical Engineering',\n 'International Journal of Environmental Science and Technology',\n 'Separation and Purification Reviews',\n 'Desalination and Water Treatment',\n 'Desalination',\n 'Journal of Chemical and Engineering Data']"
     },
     "execution_count": 12,
     "metadata": {},
     "output_type": "execute_result"
    }
   ],
   "source": [
    "# Filter for articles\n",
    "df = df[df['type'] == 'Article']\n",
    "\n",
    "# List of journals\n",
    "list(df['publicationName'].unique())"
   ],
   "metadata": {
    "collapsed": false,
    "ExecuteTime": {
     "end_time": "2024-11-22T13:44:32.781148Z",
     "start_time": "2024-11-22T13:44:32.772732400Z"
    }
   },
   "id": "5d01bf47d3c72b7b"
  },
  {
   "cell_type": "code",
   "execution_count": null,
   "outputs": [],
   "source": [],
   "metadata": {
    "collapsed": false
   },
   "id": "64376b515f3ac112"
  }
 ],
 "metadata": {
  "kernelspec": {
   "display_name": "Python 3 (ipykernel)",
   "language": "python",
   "name": "python3"
  },
  "language_info": {
   "codemirror_mode": {
    "name": "ipython",
    "version": 3
   },
   "file_extension": ".py",
   "mimetype": "text/x-python",
   "name": "python",
   "nbconvert_exporter": "python",
   "pygments_lexer": "ipython3",
   "version": "3.11.3"
  }
 },
 "nbformat": 4,
 "nbformat_minor": 5
}
